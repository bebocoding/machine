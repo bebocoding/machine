{
 "cells": [
  {
   "cell_type": "code",
   "execution_count": 341,
   "metadata": {},
   "outputs": [],
   "source": [
    "import numpy as np\n",
    "import pandas as pd\n",
    "from sklearn.compose import ColumnTransformer\n",
    "from sklearn.ensemble import RandomForestClassifier\n",
    "from sklearn.pipeline import Pipeline\n",
    "from sklearn.preprocessing import OneHotEncoder"
   ]
  },
  {
   "cell_type": "code",
   "execution_count": 342,
   "metadata": {},
   "outputs": [
    {
     "data": {
      "text/html": [
       "<div>\n",
       "<style scoped>\n",
       "    .dataframe tbody tr th:only-of-type {\n",
       "        vertical-align: middle;\n",
       "    }\n",
       "\n",
       "    .dataframe tbody tr th {\n",
       "        vertical-align: top;\n",
       "    }\n",
       "\n",
       "    .dataframe thead th {\n",
       "        text-align: right;\n",
       "    }\n",
       "</style>\n",
       "<table border=\"1\" class=\"dataframe\">\n",
       "  <thead>\n",
       "    <tr style=\"text-align: right;\">\n",
       "      <th></th>\n",
       "      <th>name</th>\n",
       "      <th>muscle_group</th>\n",
       "      <th>weight_kg</th>\n",
       "      <th>height_cm</th>\n",
       "      <th>level</th>\n",
       "      <th>gender</th>\n",
       "      <th>workout</th>\n",
       "    </tr>\n",
       "  </thead>\n",
       "  <tbody>\n",
       "    <tr>\n",
       "      <th>0</th>\n",
       "      <td>Abdallah</td>\n",
       "      <td>leg</td>\n",
       "      <td>80</td>\n",
       "      <td>185</td>\n",
       "      <td>advanced</td>\n",
       "      <td>male</td>\n",
       "      <td>1</td>\n",
       "    </tr>\n",
       "    <tr>\n",
       "      <th>1</th>\n",
       "      <td>Ezzat</td>\n",
       "      <td>leg</td>\n",
       "      <td>70</td>\n",
       "      <td>180</td>\n",
       "      <td>beginner</td>\n",
       "      <td>male</td>\n",
       "      <td>1</td>\n",
       "    </tr>\n",
       "    <tr>\n",
       "      <th>2</th>\n",
       "      <td>gom3a</td>\n",
       "      <td>leg</td>\n",
       "      <td>70</td>\n",
       "      <td>190</td>\n",
       "      <td>beginner</td>\n",
       "      <td>male</td>\n",
       "      <td>2</td>\n",
       "    </tr>\n",
       "    <tr>\n",
       "      <th>3</th>\n",
       "      <td>Saad</td>\n",
       "      <td>leg</td>\n",
       "      <td>80</td>\n",
       "      <td>185</td>\n",
       "      <td>intermediate</td>\n",
       "      <td>male</td>\n",
       "      <td>2</td>\n",
       "    </tr>\n",
       "    <tr>\n",
       "      <th>4</th>\n",
       "      <td>Ahmed</td>\n",
       "      <td>leg</td>\n",
       "      <td>75</td>\n",
       "      <td>170</td>\n",
       "      <td>beginner</td>\n",
       "      <td>male</td>\n",
       "      <td>1</td>\n",
       "    </tr>\n",
       "    <tr>\n",
       "      <th>5</th>\n",
       "      <td>Sara</td>\n",
       "      <td>leg</td>\n",
       "      <td>60</td>\n",
       "      <td>150</td>\n",
       "      <td>beginner</td>\n",
       "      <td>female</td>\n",
       "      <td>2</td>\n",
       "    </tr>\n",
       "  </tbody>\n",
       "</table>\n",
       "</div>"
      ],
      "text/plain": [
       "       name muscle_group  weight_kg  height_cm         level  gender  workout\n",
       "0  Abdallah          leg         80        185      advanced    male        1\n",
       "1     Ezzat          leg         70        180      beginner    male        1\n",
       "2     gom3a          leg         70        190      beginner    male        2\n",
       "3      Saad          leg         80        185  intermediate    male        2\n",
       "4     Ahmed          leg         75        170      beginner    male        1\n",
       "5      Sara          leg         60        150      beginner  female        2"
      ]
     },
     "execution_count": 342,
     "metadata": {},
     "output_type": "execute_result"
    }
   ],
   "source": [
    "df = pd.read_csv(\"user.csv\")\n",
    "df"
   ]
  },
  {
   "cell_type": "code",
   "execution_count": 343,
   "metadata": {},
   "outputs": [
    {
     "name": "stdout",
     "output_type": "stream",
     "text": [
      "numerical features: ['weight_kg', 'height_cm']\n",
      "categorical features: ['level', 'gender']\n"
     ]
    }
   ],
   "source": [
    "df.drop(columns=[\"name\",\"muscle_group\"],inplace=True)\n",
    "\n",
    "features = df.drop(columns=\"workout\").columns\n",
    "\n",
    "# categorical and numerical featuers\n",
    "num_features = [col for col in features if df[col].dtype != \"object\"]\n",
    "\n",
    "cat_features = [col for col in features if df[col].dtype==\"object\"]\n",
    "\n",
    "print(f\"numerical features: {num_features}\")\n",
    "print(f\"categorical features: {cat_features}\")"
   ]
  },
  {
   "cell_type": "code",
   "execution_count": 344,
   "metadata": {},
   "outputs": [],
   "source": [
    "X = df.drop(columns=[\"workout\"])\n",
    "y = df[\"workout\"]"
   ]
  },
  {
   "cell_type": "code",
   "execution_count": 345,
   "metadata": {},
   "outputs": [
    {
     "data": {
      "text/html": [
       "<div>\n",
       "<style scoped>\n",
       "    .dataframe tbody tr th:only-of-type {\n",
       "        vertical-align: middle;\n",
       "    }\n",
       "\n",
       "    .dataframe tbody tr th {\n",
       "        vertical-align: top;\n",
       "    }\n",
       "\n",
       "    .dataframe thead th {\n",
       "        text-align: right;\n",
       "    }\n",
       "</style>\n",
       "<table border=\"1\" class=\"dataframe\">\n",
       "  <thead>\n",
       "    <tr style=\"text-align: right;\">\n",
       "      <th></th>\n",
       "      <th>weight_kg</th>\n",
       "      <th>height_cm</th>\n",
       "      <th>level</th>\n",
       "      <th>gender</th>\n",
       "    </tr>\n",
       "  </thead>\n",
       "  <tbody>\n",
       "    <tr>\n",
       "      <th>0</th>\n",
       "      <td>80</td>\n",
       "      <td>185</td>\n",
       "      <td>advanced</td>\n",
       "      <td>male</td>\n",
       "    </tr>\n",
       "    <tr>\n",
       "      <th>1</th>\n",
       "      <td>70</td>\n",
       "      <td>180</td>\n",
       "      <td>beginner</td>\n",
       "      <td>male</td>\n",
       "    </tr>\n",
       "    <tr>\n",
       "      <th>2</th>\n",
       "      <td>70</td>\n",
       "      <td>190</td>\n",
       "      <td>beginner</td>\n",
       "      <td>male</td>\n",
       "    </tr>\n",
       "    <tr>\n",
       "      <th>3</th>\n",
       "      <td>80</td>\n",
       "      <td>185</td>\n",
       "      <td>intermediate</td>\n",
       "      <td>male</td>\n",
       "    </tr>\n",
       "    <tr>\n",
       "      <th>4</th>\n",
       "      <td>75</td>\n",
       "      <td>170</td>\n",
       "      <td>beginner</td>\n",
       "      <td>male</td>\n",
       "    </tr>\n",
       "    <tr>\n",
       "      <th>5</th>\n",
       "      <td>60</td>\n",
       "      <td>150</td>\n",
       "      <td>beginner</td>\n",
       "      <td>female</td>\n",
       "    </tr>\n",
       "  </tbody>\n",
       "</table>\n",
       "</div>"
      ],
      "text/plain": [
       "   weight_kg  height_cm         level  gender\n",
       "0         80        185      advanced    male\n",
       "1         70        180      beginner    male\n",
       "2         70        190      beginner    male\n",
       "3         80        185  intermediate    male\n",
       "4         75        170      beginner    male\n",
       "5         60        150      beginner  female"
      ]
     },
     "execution_count": 345,
     "metadata": {},
     "output_type": "execute_result"
    }
   ],
   "source": [
    "X"
   ]
  },
  {
   "cell_type": "code",
   "execution_count": 346,
   "metadata": {},
   "outputs": [
    {
     "data": {
      "text/plain": [
       "array([1, 1, 2, 2, 1, 2], dtype=int64)"
      ]
     },
     "execution_count": 346,
     "metadata": {},
     "output_type": "execute_result"
    }
   ],
   "source": [
    "y.values"
   ]
  },
  {
   "cell_type": "code",
   "execution_count": 347,
   "metadata": {},
   "outputs": [
    {
     "name": "stdout",
     "output_type": "stream",
     "text": [
      "[[ 80. 185.   1.   0.   0.   0.   1.]\n",
      " [ 70. 180.   0.   1.   0.   0.   1.]\n",
      " [ 70. 190.   0.   1.   0.   0.   1.]\n",
      " [ 80. 185.   0.   0.   1.   0.   1.]\n",
      " [ 75. 170.   0.   1.   0.   0.   1.]\n",
      " [ 60. 150.   0.   1.   0.   1.   0.]]\n"
     ]
    }
   ],
   "source": [
    "# transforming the data part\n",
    "preprocessor = ColumnTransformer(\n",
    "    transformers=[\n",
    "        ('num', 'passthrough', num_features),  # pass through numeric features\n",
    "        ('cat', OneHotEncoder(), cat_features)  # apply OneHotEncoder to categorical features\n",
    "    ])\n",
    "\n",
    "# visualizing the transformed data\n",
    "print(preprocessor.fit_transform(X,y))  \n",
    "\n",
    "# pipelining the transformed data with the clasifier model into a single model\n",
    "model = Pipeline(steps=[\n",
    "    ('preprocessor', preprocessor),\n",
    "    ('classifier', RandomForestClassifier())\n",
    "])"
   ]
  },
  {
   "cell_type": "code",
   "execution_count": 348,
   "metadata": {},
   "outputs": [
    {
     "data": {
      "text/plain": [
       "Pipeline(steps=[('preprocessor',\n",
       "                 ColumnTransformer(transformers=[('num', 'passthrough',\n",
       "                                                  ['weight_kg', 'height_cm']),\n",
       "                                                 ('cat', OneHotEncoder(),\n",
       "                                                  ['level', 'gender'])])),\n",
       "                ('classifier', RandomForestClassifier())])"
      ]
     },
     "execution_count": 348,
     "metadata": {},
     "output_type": "execute_result"
    }
   ],
   "source": [
    "model.fit(X,y)"
   ]
  },
  {
   "cell_type": "code",
   "execution_count": 349,
   "metadata": {},
   "outputs": [
    {
     "data": {
      "text/plain": [
       "array([1, 1, 2, 2, 1, 2], dtype=int64)"
      ]
     },
     "execution_count": 349,
     "metadata": {},
     "output_type": "execute_result"
    }
   ],
   "source": [
    "y_pred = model.predict(X)\n",
    "y_pred"
   ]
  },
  {
   "cell_type": "code",
   "execution_count": 350,
   "metadata": {},
   "outputs": [
    {
     "name": "stdout",
     "output_type": "stream",
     "text": [
      "1.0\n"
     ]
    }
   ],
   "source": [
    "from sklearn.metrics import accuracy_score\n",
    "score = accuracy_score(y,y_pred)\n",
    "print(score)"
   ]
  },
  {
   "cell_type": "code",
   "execution_count": 351,
   "metadata": {},
   "outputs": [],
   "source": [
    "import pickle\n",
    "with open(\"classifier.pkl\",\"wb\") as pickle_out:\n",
    "    pickle.dump(model,pickle_out)\n",
    "    pickle_out.close()"
   ]
  },
  {
   "cell_type": "code",
   "execution_count": 352,
   "metadata": {},
   "outputs": [
    {
     "name": "stdout",
     "output_type": "stream",
     "text": [
      "I recommend you play workout number 1\n"
     ]
    }
   ],
   "source": [
    "test_user = [{'weight_kg': 80,'height_cm':180, 'level':'beginner','gender':'male'}]\n",
    "prediction = model.predict(pd.DataFrame(test_user))\n",
    "print(f'I recommend you play workout number {prediction[0]}')"
   ]
  }
 ],
 "metadata": {
  "kernelspec": {
   "display_name": "Python 3",
   "language": "python",
   "name": "python3"
  },
  "language_info": {
   "codemirror_mode": {
    "name": "ipython",
    "version": 3
   },
   "file_extension": ".py",
   "mimetype": "text/x-python",
   "name": "python",
   "nbconvert_exporter": "python",
   "pygments_lexer": "ipython3",
   "version": "3.8.8"
  }
 },
 "nbformat": 4,
 "nbformat_minor": 2
}
